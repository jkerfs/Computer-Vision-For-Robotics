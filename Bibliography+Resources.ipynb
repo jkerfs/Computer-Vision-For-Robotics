{
 "cells": [
  {
   "cell_type": "markdown",
   "metadata": {},
   "source": [
    "# Bibliography\n",
    "\n",
    "Stan Birchfield, *An Introduction to Projective Geometry*; April 23, 1998 http://robotics.stanford.edu/~birch/projective/projective.html.\n",
    "\n",
    "Hartley, R.~I. and Zisserman, A., *Multiple View Geometry in Computer Vision*, 2004.\n",
    "\n",
    "Roland Siegwart, Illah Nourbakhsh, Davide Scaramuzza, *Introduction to Autonomous Mobile Robots*, 2011."
   ]
  },
  {
   "cell_type": "markdown",
   "metadata": {},
   "source": [
    "# Resources\n",
    "\n",
    "## Classes\n",
    "[Autonomous Mobile Robots on edx](https://courses.edx.org/courses/course-v1:ETHx+AMRx+2T2016/info)"
   ]
  },
  {
   "cell_type": "code",
   "execution_count": null,
   "metadata": {
    "collapsed": true
   },
   "outputs": [],
   "source": []
  }
 ],
 "metadata": {
  "kernelspec": {
   "display_name": "Python 3",
   "language": "python",
   "name": "python3"
  },
  "language_info": {
   "codemirror_mode": {
    "name": "ipython",
    "version": 3
   },
   "file_extension": ".py",
   "mimetype": "text/x-python",
   "name": "python",
   "nbconvert_exporter": "python",
   "pygments_lexer": "ipython3",
   "version": "3.4.3"
  }
 },
 "nbformat": 4,
 "nbformat_minor": 2
}
